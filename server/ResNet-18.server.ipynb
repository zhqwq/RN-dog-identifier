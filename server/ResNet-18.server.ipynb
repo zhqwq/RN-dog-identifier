{
 "cells": [
  {
   "cell_type": "code",
   "execution_count": 7,
   "id": "b321055a",
   "metadata": {},
   "outputs": [],
   "source": [
    "import flask\n",
    "import numpy as np\n",
    "import torch\n",
    "import torch.nn as nn\n",
    "import torch.nn.functional as F\n",
    "import torchvision\n",
    "from torchvision import transforms as T\n",
    "import io\n",
    "from PIL import Image"
   ]
  },
  {
   "cell_type": "code",
   "execution_count": 8,
   "id": "7a978319",
   "metadata": {
    "scrolled": false
   },
   "outputs": [
    {
     "name": "stdout",
     "output_type": "stream",
     "text": [
      "Train on gpu: True\n",
      "Loading PyTorch model and Flask starting server ...\n",
      "Please wait until server has fully started\n",
      " * Serving Flask app \"__main__\" (lazy loading)\n",
      " * Environment: production\n",
      "   WARNING: This is a development server. Do not use it in a production deployment.\n",
      "   Use a production WSGI server instead.\n",
      " * Debug mode: off\n"
     ]
    },
    {
     "name": "stderr",
     "output_type": "stream",
     "text": [
      " * Running on http://127.0.0.1:5000/ (Press CTRL+C to quit)\n",
      "127.0.0.1 - - [13/Feb/2022 13:45:26] \"\u001b[37mPOST /predict HTTP/1.1\u001b[0m\" 200 -\n"
     ]
    },
    {
     "name": "stdout",
     "output_type": "stream",
     "text": [
      "True\n"
     ]
    },
    {
     "name": "stderr",
     "output_type": "stream",
     "text": [
      "127.0.0.1 - - [13/Feb/2022 13:45:30] \"\u001b[37mPOST /predict HTTP/1.1\u001b[0m\" 200 -\n"
     ]
    },
    {
     "name": "stdout",
     "output_type": "stream",
     "text": [
      "True\n"
     ]
    }
   ],
   "source": [
    "app = flask.Flask(__name__)\n",
    "\n",
    "useGPU = torch.cuda.is_available()\n",
    "print(f'Train on gpu: {useGPU}')\n",
    "device = torch.device('cuda' if useGPU else 'cpu')\n",
    "\n",
    "def load_model():\n",
    "    \"\"\"Load the pre-trained model, you can use your model just as easily.\n",
    "    \"\"\"\n",
    "    global model\n",
    "    model = torchvision.models.resnet18(pretrained = True) # Use pre-trained ResNet 18 model\n",
    "    \n",
    "    model.fc = nn.Sequential(\n",
    "                      nn.Linear(model.fc.in_features, 256),\n",
    "                      nn.ReLU(),\n",
    "                      nn.Dropout(0.1),\n",
    "                      nn.Linear(256, 70),                   \n",
    "                      nn.LogSoftmax(dim=1))\n",
    "    model.load_state_dict(torch.load('model_weights.pth', map_location=device))\n",
    "    if useGPU:\n",
    "        model.cuda()\n",
    "    model.eval()\n",
    "    \n",
    "def prepare_image(img):\n",
    "    \"\"\"Do image preprocessing before prediction on any data\"\"\"\n",
    "    global transforms \n",
    "    transforms = torchvision.transforms.Compose([\n",
    "        torchvision.transforms.Resize(256),\n",
    "        torchvision.transforms.CenterCrop(224),   \n",
    "        torchvision.transforms.ToTensor(),      \n",
    "        torchvision.transforms.RandomHorizontalFlip(p = 0.5) # 随机水平翻转\n",
    "    ])\n",
    "    \n",
    "    if useGPU:\n",
    "        return transforms(img).unsqueeze(0).cuda()\n",
    "    else:\n",
    "        return transforms(img).unsqueeze(0).cpu()\n",
    "\n",
    "@app.route(\"/predict\", methods=[\"POST\"])\n",
    "def predict():\n",
    "    # Initialize the data dictionary that will be returned from the view.\n",
    "    data = {\"success\": False}\n",
    "\n",
    "    # Ensure an image was properly uploaded to our endpoint.\n",
    "    if flask.request.method == 'POST':\n",
    "        if flask.request.files.get(\"image\"):\n",
    "            # Read the image in PIL format\n",
    "            image = flask.request.files[\"image\"].read()\n",
    "            image = Image.open(io.BytesIO(image)) # 一般传入二进制文件\n",
    "            \n",
    "            # Preprocess the image and prepare it for classification.\n",
    "            image = prepare_image(image)\n",
    "            \n",
    "            # Classify the input image and then initialize the list of predictions to return to the client.\n",
    "            preds = F.softmax(model(image), dim=1)\n",
    "            results = torch.topk(preds.cpu().data, k=3, dim=1)\n",
    "            \n",
    "            data['predictions'] = list()\n",
    "            \n",
    "            trainset = torchvision.datasets.ImageFolder(\"./datasets/DogBreeds/train\", transform = transforms)\n",
    "\n",
    "            for index, value in zip(results.indices.squeeze(), results.values.squeeze()):\n",
    "                data[\"predictions\"].append({\"label\": trainset.classes[index], \"prop\": value.item() }) # prop -> prob\n",
    "            \n",
    "            # Indicate that the request was a success.\n",
    "            data[\"success\"] = True\n",
    "\n",
    "    # Return the data dictionary as a JSON response.\n",
    "    return flask.jsonify(data)\n",
    "\n",
    "if __name__ == '__main__':\n",
    "    print(\"Loading PyTorch model and Flask starting server ...\")\n",
    "    print(\"Please wait until server has fully started\")\n",
    "    load_model()\n",
    "    app.run()"
   ]
  },
  {
   "cell_type": "code",
   "execution_count": null,
   "id": "74ac9325",
   "metadata": {},
   "outputs": [],
   "source": []
  }
 ],
 "metadata": {
  "kernelspec": {
   "display_name": "Python 3",
   "language": "python",
   "name": "python3"
  },
  "language_info": {
   "codemirror_mode": {
    "name": "ipython",
    "version": 3
   },
   "file_extension": ".py",
   "mimetype": "text/x-python",
   "name": "python",
   "nbconvert_exporter": "python",
   "pygments_lexer": "ipython3",
   "version": "3.8.8"
  }
 },
 "nbformat": 4,
 "nbformat_minor": 5
}
